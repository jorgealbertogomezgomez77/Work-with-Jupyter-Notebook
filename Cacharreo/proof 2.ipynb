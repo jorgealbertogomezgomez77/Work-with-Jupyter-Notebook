{
 "cells": [
  {
   "cell_type": "code",
   "execution_count": 1,
   "metadata": {},
   "outputs": [],
   "source": [
    "import plotly.plotly as py\n",
    "import plotly.graph_objs as go"
   ]
  },
  {
   "cell_type": "code",
   "execution_count": 2,
   "metadata": {},
   "outputs": [
    {
     "name": "stderr",
     "output_type": "stream",
     "text": [
      "c:\\users\\jorge\\appdata\\local\\programs\\python\\python37\\lib\\site-packages\\IPython\\core\\display.py:689: UserWarning:\n",
      "\n",
      "Consider using IPython.display.IFrame instead\n",
      "\n"
     ]
    },
    {
     "data": {
      "text/html": [
       "<iframe id=\"igraph\" scrolling=\"no\" style=\"border:none;\" seamless=\"seamless\" src=\"https://plot.ly/~JorgeAlbertoGomezGomez/16.embed\" height=\"525px\" width=\"100%\"></iframe>"
      ],
      "text/plain": [
       "<plotly.tools.PlotlyDisplay object>"
      ]
     },
     "execution_count": 2,
     "metadata": {},
     "output_type": "execute_result"
    }
   ],
   "source": [
    "rawData = [\n",
    "    {'journalist':75,'developer':25,'designer':0,'label':'point 1'},\n",
    "    {'journalist':70,'developer':10,'designer':20,'label':'point 2'},\n",
    "    {'journalist':75,'developer':20,'designer':5,'label':'point 3'},\n",
    "    {'journalist':5,'developer':60,'designer':35,'label':'point 4'},\n",
    "    {'journalist':10,'developer':80,'designer':10,'label':'point 5'},\n",
    "    {'journalist':10,'developer':90,'designer':0,'label':'point 6'},\n",
    "    {'journalist':20,'developer':70,'designer':10,'label':'point 7'},\n",
    "    {'journalist':10,'developer':20,'designer':70,'label':'point 8'},\n",
    "    {'journalist':15,'developer':5,'designer':80,'label':'point 9'},\n",
    "    {'journalist':10,'developer':10,'designer':80,'label':'point 10'},\n",
    "    {'journalist':20,'developer':10,'designer':70,'label':'point 11'},\n",
    "];\n",
    "\n",
    "def makeAxis(title, tickangle): \n",
    "    return {\n",
    "      'title': title,\n",
    "      'titlefont': { 'size': 20 },\n",
    "      'tickangle': tickangle,\n",
    "      'tickfont': { 'size': 15 },\n",
    "      'tickcolor': 'rgba(0,0,0,0)',\n",
    "      'ticklen': 5,\n",
    "      'showline': True,\n",
    "      'showgrid': True\n",
    "    }\n",
    "\n",
    "data = [{ \n",
    "    'type': 'scatterternary',\n",
    "    'mode': 'markers',\n",
    "    'a': [i for i in map(lambda x: x['journalist'], rawData)],\n",
    "    'b': [i for i in map(lambda x: x['developer'], rawData)],\n",
    "    'c': [i for i in map(lambda x: x['designer'], rawData)],\n",
    "    'text': [i for i in map(lambda x: x['label'], rawData)],\n",
    "    'marker': {\n",
    "        'symbol': 100,\n",
    "        'color': '#DB7365',\n",
    "        'size': 14,\n",
    "        'line': { 'width': 2 }\n",
    "    },\n",
    "    }]\n",
    "\n",
    "layout = {\n",
    "    'ternary': {\n",
    "        'sum': 100,\n",
    "        'aaxis': makeAxis('Journalist', 0),\n",
    "        'baxis': makeAxis('<br>Developer', 45),\n",
    "        'caxis': makeAxis('<br>Designer', -45)\n",
    "    },\n",
    "    'annotations': [{\n",
    "      'showarrow': False,\n",
    "      'text': 'Simple Ternary Plot with Markers',\n",
    "        'x': 0.5,\n",
    "        'y': 1.3,\n",
    "        'font': { 'size': 15 }\n",
    "    }]\n",
    "}\n",
    "\n",
    "fig = {'data': data, 'layout': layout}\n",
    "py.iplot(fig, validate=False)"
   ]
  },
  {
   "cell_type": "code",
   "execution_count": null,
   "metadata": {},
   "outputs": [],
   "source": []
  }
 ],
 "metadata": {
  "kernelspec": {
   "display_name": "Python 3",
   "language": "python",
   "name": "python3"
  },
  "language_info": {
   "codemirror_mode": {
    "name": "ipython",
    "version": 3
   },
   "file_extension": ".py",
   "mimetype": "text/x-python",
   "name": "python",
   "nbconvert_exporter": "python",
   "pygments_lexer": "ipython3",
   "version": "3.7.3rc1"
  }
 },
 "nbformat": 4,
 "nbformat_minor": 2
}
