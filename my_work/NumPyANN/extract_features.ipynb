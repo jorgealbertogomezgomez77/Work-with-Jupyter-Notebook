{
 "cells": [
  {
   "cell_type": "code",
   "execution_count": 3,
   "metadata": {},
   "outputs": [],
   "source": [
    "import numpy\n",
    "import skimage.io, skimage.color, skimage.feature\n",
    "import os\n",
    "import pickle"
   ]
  },
  {
   "cell_type": "code",
   "execution_count": 7,
   "metadata": {},
   "outputs": [],
   "source": [
    "fruits = [\"apple\", \"raspberry\", \"mango\", \"lemon\"]\n",
    "#492+490+490+490=1,962\n",
    "dataset_features = numpy.zeros(shape=(1962, 360))\n",
    "outputs = numpy.zeros(shape=(1962))\n",
    "\n",
    "idx = 0\n",
    "class_label = 0\n",
    "for fruit_dir in fruits:\n",
    "    curr_dir = os.path.join(os.path.sep, fruit_dir)\n",
    "    all_imgs = os.listdir(os.getcwd()+curr_dir)\n",
    "    for img_file in all_imgs:\n",
    "        fruit_data = skimage.io.imread(fname=os.getcwd()+curr_dir+'\\\\'+img_file, as_grey=False)\n",
    "        fruit_data_hsv = skimage.color.rgb2hsv(rgb=fruit_data)\n",
    "        hist = numpy.histogram(a=fruit_data_hsv[:, :, 0], bins=360)\n",
    "        dataset_features[idx, :] = hist[0]\n",
    "        outputs[idx] = class_label\n",
    "        idx = idx + 1\n",
    "    class_label = class_label + 1\n",
    "\n",
    "with open(\"dataset_features.pkl\", \"wb\") as f:\n",
    "    pickle.dump(\"dataset_features.pkl\", f)\n",
    "\n",
    "with open(\"outputs.pkl\", \"wb\") as f:\n",
    "    pickle.dump(outputs, f)"
   ]
  },
  {
   "cell_type": "code",
   "execution_count": null,
   "metadata": {},
   "outputs": [],
   "source": []
  }
 ],
 "metadata": {
  "kernelspec": {
   "display_name": "Python 3",
   "language": "python",
   "name": "python3"
  },
  "language_info": {
   "codemirror_mode": {
    "name": "ipython",
    "version": 3
   },
   "file_extension": ".py",
   "mimetype": "text/x-python",
   "name": "python",
   "nbconvert_exporter": "python",
   "pygments_lexer": "ipython3",
   "version": "3.7.3rc1"
  }
 },
 "nbformat": 4,
 "nbformat_minor": 2
}
