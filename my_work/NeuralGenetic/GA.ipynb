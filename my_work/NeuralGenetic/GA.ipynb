{
 "cells": [
  {
   "cell_type": "code",
   "execution_count": 18,
   "metadata": {},
   "outputs": [],
   "source": [
    "import numpy\n",
    "import random"
   ]
  },
  {
   "cell_type": "code",
   "execution_count": 19,
   "metadata": {},
   "outputs": [],
   "source": [
    "# Converting each solution from matrix to vector.\n",
    "def mat_to_vector(mat_pop_weights):\n",
    "    pop_weights_vector = []\n",
    "    for sol_idx in range(mat_pop_weights.shape[0]):\n",
    "        curr_vector = []\n",
    "        for layer_idx in range(mat_pop_weights.shape[1]):\n",
    "            vector_weights = numpy.reshape(mat_pop_weights[sol_idx, layer_idx], newshape = (mat_pop_weights[sol_idx, layer_idx].size))\n",
    "            curr_vector.extend(vector_weights)\n",
    "        pop_weights_vector.append(curr_vector)\n",
    "    \n",
    "    return numpy.array(pop_weights_vector)"
   ]
  },
  {
   "cell_type": "code",
   "execution_count": 1,
   "metadata": {},
   "outputs": [],
   "source": [
    "# Converting each solution from vector to matrix.\n",
    "def vector_to_mat(vector_pop_weights, mat_pop_weights):\n",
    "    mat_weights = []\n",
    "    for sol_idx in range(mat_pop_weights.shape[0]):\n",
    "        start = 0\n",
    "        end = 0\n",
    "        for layer_idx in range(mat_pop_weights.shape[1]):\n",
    "            end = end + mat_pop_weights[sol_idx, layer_idx].size\n",
    "            curr_vector = vector_pop_weights[sol_idx, start:end]\n",
    "            mat_layer_weights = numpy.reshape(curr_vector, newshape = (mat_pop_weights[sol_idx, layer_idx].shape))\n",
    "            mat_weights.append(mat_layer_weights)\n",
    "            strat = end\n",
    "            \n",
    "    return numpy.reshape(mat_weights, newshape = mat_pop_weights.shape)"
   ]
  },
  {
   "cell_type": "code",
   "execution_count": 21,
   "metadata": {},
   "outputs": [],
   "source": [
    "def select_mating_pool(pop, fitness, num_parents):\n",
    "    # Selecting the best individuals in the current generation as parents for producing the offspring of the next generation.\n",
    "    parents = numpy.empty((num_parents, pop.shape[1]))\n",
    "    for parent_num in range(num_parents):\n",
    "        max_fitness_idx = numpy.where(fitness == numpy.max(fitness))\n",
    "        max_fitness_idx = max_fitness_idx[0][0]\n",
    "        parents[parent_num, :] = pop[max_fitness_idx, :]\n",
    "        fitness[max_fitness_idx] = -999999999999\n",
    "        \n",
    "    return parents"
   ]
  },
  {
   "cell_type": "code",
   "execution_count": 22,
   "metadata": {},
   "outputs": [],
   "source": [
    "def crossover(parents, offspring_size):\n",
    "    offspring = numpy.empty(offspring_size)\n",
    "    # The point at which crossover takes place between two parents. Usually, it is at the center.\n",
    "    crossover_point = numpy.unit8(offspring_size[1] / 2)\n",
    "    \n",
    "    for k in range(offspring_size[0]):\n",
    "        # Index of the first parentto mate.\n",
    "        parent1_idx = k%parents.shape[0]\n",
    "        # Index of the second parent to mate.\n",
    "        parent2_idx = (k + 1)%parents.shape[0]\n",
    "        # The new offspring will have its first half of its genes taken from the first parent.\n",
    "        offspring[k, 0: crossover_point] = parents[parent1_idx, 0: crossover_point]\n",
    "        # The new offspring will have its second half of its genes taken from the second parent.\n",
    "        offspring[k, crossover_point:] = parents[parent2_idx, crossover_point:]\n",
    "        \n",
    "    return offspring"
   ]
  },
  {
   "cell_type": "code",
   "execution_count": 23,
   "metadata": {},
   "outputs": [],
   "source": [
    "def mutation(offspring_crossover, mutation_percent):\n",
    "    num_mutations = numpy.unit8((mutation_percent * offspring_crossover.shape[1]) / 100)\n",
    "    mutation_indices = numpy.array(random.sample(range(0, offspring_crossover.shape[1]), num_mutations))\n",
    "    # Mutation changes a single gene in each offspring randomly.\n",
    "    for idx in range(offspring_crossover.shape[0]):\n",
    "        # The random value to be added to the gene.\n",
    "        random_value = numpy.random.uniform(-1.0, 1.0, 1)\n",
    "        offspring_crossover[idx, mutation_indices] = offspring_crossover[idx, mutation_indices] + random_value\n",
    "    \n",
    "    return offspring_crossover"
   ]
  },
  {
   "cell_type": "code",
   "execution_count": null,
   "metadata": {},
   "outputs": [],
   "source": []
  }
 ],
 "metadata": {
  "kernelspec": {
   "display_name": "Python 3",
   "language": "python",
   "name": "python3"
  },
  "language_info": {
   "codemirror_mode": {
    "name": "ipython",
    "version": 3
   },
   "file_extension": ".py",
   "mimetype": "text/x-python",
   "name": "python",
   "nbconvert_exporter": "python",
   "pygments_lexer": "ipython3",
   "version": "3.7.3rc1"
  }
 },
 "nbformat": 4,
 "nbformat_minor": 2
}
