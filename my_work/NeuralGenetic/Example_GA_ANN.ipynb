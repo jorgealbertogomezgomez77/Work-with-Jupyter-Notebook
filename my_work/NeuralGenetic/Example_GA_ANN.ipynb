{
 "cells": [
  {
   "cell_type": "code",
   "execution_count": 1,
   "metadata": {},
   "outputs": [
    {
     "name": "stdout",
     "output_type": "stream",
     "text": [
      "importing Jupyter notebook from GA.ipynb\n",
      "importing Jupyter notebook from ANN.ipynb\n"
     ]
    }
   ],
   "source": [
    "import import_ipynb\n",
    "import numpy as np\n",
    "import GA\n",
    "import pickle\n",
    "import ANN\n",
    "import matplotlib.pyplot as plt"
   ]
  },
  {
   "cell_type": "code",
   "execution_count": 2,
   "metadata": {},
   "outputs": [],
   "source": [
    "f = open(\"dataset_features.pkl\", \"rb\")"
   ]
  },
  {
   "cell_type": "code",
   "execution_count": 3,
   "metadata": {},
   "outputs": [],
   "source": [
    "data_inputs2 = pickle.load(f)"
   ]
  },
  {
   "cell_type": "code",
   "execution_count": 4,
   "metadata": {},
   "outputs": [],
   "source": [
    "f.close()"
   ]
  },
  {
   "cell_type": "code",
   "execution_count": 5,
   "metadata": {},
   "outputs": [],
   "source": [
    "features_STDs = np.std(a = data_inputs2, axis = 0)"
   ]
  },
  {
   "cell_type": "code",
   "execution_count": 6,
   "metadata": {},
   "outputs": [
    {
     "data": {
      "text/plain": [
       "array([[1.576e+03, 3.380e+02, 6.160e+02, ..., 0.000e+00, 0.000e+00,\n",
       "        1.070e+02],\n",
       "       [1.769e+03, 8.630e+02, 1.117e+03, ..., 0.000e+00, 0.000e+00,\n",
       "        3.700e+02],\n",
       "       [1.847e+03, 8.600e+02, 1.115e+03, ..., 0.000e+00, 0.000e+00,\n",
       "        3.780e+02],\n",
       "       ...,\n",
       "       [5.520e+02, 2.000e+00, 8.000e+00, ..., 5.000e+00, 1.000e+00,\n",
       "        5.000e+00],\n",
       "       [5.830e+02, 2.000e+00, 7.000e+00, ..., 0.000e+00, 0.000e+00,\n",
       "        4.000e+00],\n",
       "       [6.300e+02, 1.000e+00, 8.000e+00, ..., 5.000e+00, 0.000e+00,\n",
       "        4.000e+00]])"
      ]
     },
     "execution_count": 6,
     "metadata": {},
     "output_type": "execute_result"
    }
   ],
   "source": [
    "data_inputs = data_inputs2[:, features_STDs > 50]\n",
    "data_inputs"
   ]
  },
  {
   "cell_type": "code",
   "execution_count": 7,
   "metadata": {},
   "outputs": [],
   "source": [
    "f = open(\"outputs.pkl\", \"rb\")\n",
    "data_outputs = pickle.load(f)\n",
    "f.close()"
   ]
  },
  {
   "cell_type": "code",
   "execution_count": 8,
   "metadata": {},
   "outputs": [
    {
     "data": {
      "text/plain": [
       "'\\nGenerate algorithm parameters:\\n    Mating Pool Size (Number of Parameters)\\n    Population Size\\n    Number of Generations\\n    Mutation Percent\\n'"
      ]
     },
     "execution_count": 8,
     "metadata": {},
     "output_type": "execute_result"
    }
   ],
   "source": [
    "\"\"\"\n",
    "Generate algorithm parameters:\n",
    "    Mating Pool Size (Number of Parameters)\n",
    "    Population Size\n",
    "    Number of Generations\n",
    "    Mutation Percent\n",
    "\"\"\""
   ]
  },
  {
   "cell_type": "code",
   "execution_count": 9,
   "metadata": {},
   "outputs": [],
   "source": [
    "sol_per_pop = 8\n",
    "num_parents_mating = 4\n",
    "num_generations = 1000\n",
    "mutation_percent = 10"
   ]
  },
  {
   "cell_type": "code",
   "execution_count": 10,
   "metadata": {},
   "outputs": [],
   "source": [
    "# Creating the initial population.\n",
    "initial_pop_weights = []\n",
    "for curr_sol in np.arange(0, sol_per_pop):\n",
    "    \n",
    "    HL1_neurons = 150\n",
    "    input_HL1_weights = np.random.uniform(low = -0.1, high = 0.1, size = (data_inputs.shape[1], HL1_neurons))\n",
    "    \n",
    "    HL2_neurons = 60\n",
    "    HL1_HL2_weights = np.random.uniform(low = -0.1, high = 0.1, size = (HL1_neurons, HL2_neurons))\n",
    "    \n",
    "    output_neurons = 4\n",
    "    HL2_output_weights = np.random.uniform(low = -0.1, high = 0.1, size = (HL2_neurons, output_neurons))\n",
    "    \n",
    "    initial_pop_weights.append(np.array([input_HL1_weights, HL1_HL2_weights, HL2_output_weights])) "
   ]
  },
  {
   "cell_type": "code",
   "execution_count": 11,
   "metadata": {},
   "outputs": [],
   "source": [
    "pop_weights_mat = np.array(initial_pop_weights)\n",
    "pop_weights_vector = GA.mat_to_vector(pop_weights_mat)"
   ]
  },
  {
   "cell_type": "code",
   "execution_count": 12,
   "metadata": {},
   "outputs": [],
   "source": [
    "best_outputs = []\n",
    "accuracies = np.empty(shape = (num_generations))"
   ]
  },
  {
   "cell_type": "code",
   "execution_count": 13,
   "metadata": {},
   "outputs": [
    {
     "name": "stdout",
     "output_type": "stream",
     "text": [
      "Generation:  0\n"
     ]
    },
    {
     "ename": "ValueError",
     "evalue": "cannot reshape array of size 24300 into shape (150,60)",
     "output_type": "error",
     "traceback": [
      "\u001b[1;31m---------------------------------------------------------------------------\u001b[0m",
      "\u001b[1;31mValueError\u001b[0m                                Traceback (most recent call last)",
      "\u001b[1;32m<ipython-input-13-b17f33e3d200>\u001b[0m in \u001b[0;36m<module>\u001b[1;34m\u001b[0m\n\u001b[0;32m      3\u001b[0m \u001b[1;33m\u001b[0m\u001b[0m\n\u001b[0;32m      4\u001b[0m     \u001b[1;31m# Converting the solution from being vectors to matrices.\u001b[0m\u001b[1;33m\u001b[0m\u001b[1;33m\u001b[0m\u001b[1;33m\u001b[0m\u001b[0m\n\u001b[1;32m----> 5\u001b[1;33m     \u001b[0mpop_weights_mat\u001b[0m \u001b[1;33m=\u001b[0m \u001b[0mGA\u001b[0m\u001b[1;33m.\u001b[0m\u001b[0mvector_to_mat\u001b[0m\u001b[1;33m(\u001b[0m\u001b[0mpop_weights_vector\u001b[0m\u001b[1;33m,\u001b[0m \u001b[0mpop_weights_mat\u001b[0m\u001b[1;33m)\u001b[0m\u001b[1;33m\u001b[0m\u001b[1;33m\u001b[0m\u001b[0m\n\u001b[0m\u001b[0;32m      6\u001b[0m \u001b[1;33m\u001b[0m\u001b[0m\n\u001b[0;32m      7\u001b[0m     \u001b[1;31m# Measuring the fitness of each chromosomes in the population.\u001b[0m\u001b[1;33m\u001b[0m\u001b[1;33m\u001b[0m\u001b[1;33m\u001b[0m\u001b[0m\n",
      "\u001b[1;32mD:\\Program_Folder\\Python\\Work with Jupyter Notebook\\my_work\\NeuralGenetic\\GA.ipynb\u001b[0m in \u001b[0;36mvector_to_mat\u001b[1;34m(vector_pop_weights, mat_pop_weights)\u001b[0m\n",
      "\u001b[1;32mc:\\users\\jorge\\appdata\\local\\programs\\python\\python37\\lib\\site-packages\\numpy\\core\\fromnumeric.py\u001b[0m in \u001b[0;36mreshape\u001b[1;34m(a, newshape, order)\u001b[0m\n\u001b[0;32m    290\u001b[0m            [5, 6]])\n\u001b[0;32m    291\u001b[0m     \"\"\"\n\u001b[1;32m--> 292\u001b[1;33m     \u001b[1;32mreturn\u001b[0m \u001b[0m_wrapfunc\u001b[0m\u001b[1;33m(\u001b[0m\u001b[0ma\u001b[0m\u001b[1;33m,\u001b[0m \u001b[1;34m'reshape'\u001b[0m\u001b[1;33m,\u001b[0m \u001b[0mnewshape\u001b[0m\u001b[1;33m,\u001b[0m \u001b[0morder\u001b[0m\u001b[1;33m=\u001b[0m\u001b[0morder\u001b[0m\u001b[1;33m)\u001b[0m\u001b[1;33m\u001b[0m\u001b[1;33m\u001b[0m\u001b[0m\n\u001b[0m\u001b[0;32m    293\u001b[0m \u001b[1;33m\u001b[0m\u001b[0m\n\u001b[0;32m    294\u001b[0m \u001b[1;33m\u001b[0m\u001b[0m\n",
      "\u001b[1;32mc:\\users\\jorge\\appdata\\local\\programs\\python\\python37\\lib\\site-packages\\numpy\\core\\fromnumeric.py\u001b[0m in \u001b[0;36m_wrapfunc\u001b[1;34m(obj, method, *args, **kwds)\u001b[0m\n\u001b[0;32m     54\u001b[0m \u001b[1;32mdef\u001b[0m \u001b[0m_wrapfunc\u001b[0m\u001b[1;33m(\u001b[0m\u001b[0mobj\u001b[0m\u001b[1;33m,\u001b[0m \u001b[0mmethod\u001b[0m\u001b[1;33m,\u001b[0m \u001b[1;33m*\u001b[0m\u001b[0margs\u001b[0m\u001b[1;33m,\u001b[0m \u001b[1;33m**\u001b[0m\u001b[0mkwds\u001b[0m\u001b[1;33m)\u001b[0m\u001b[1;33m:\u001b[0m\u001b[1;33m\u001b[0m\u001b[1;33m\u001b[0m\u001b[0m\n\u001b[0;32m     55\u001b[0m     \u001b[1;32mtry\u001b[0m\u001b[1;33m:\u001b[0m\u001b[1;33m\u001b[0m\u001b[1;33m\u001b[0m\u001b[0m\n\u001b[1;32m---> 56\u001b[1;33m         \u001b[1;32mreturn\u001b[0m \u001b[0mgetattr\u001b[0m\u001b[1;33m(\u001b[0m\u001b[0mobj\u001b[0m\u001b[1;33m,\u001b[0m \u001b[0mmethod\u001b[0m\u001b[1;33m)\u001b[0m\u001b[1;33m(\u001b[0m\u001b[1;33m*\u001b[0m\u001b[0margs\u001b[0m\u001b[1;33m,\u001b[0m \u001b[1;33m**\u001b[0m\u001b[0mkwds\u001b[0m\u001b[1;33m)\u001b[0m\u001b[1;33m\u001b[0m\u001b[1;33m\u001b[0m\u001b[0m\n\u001b[0m\u001b[0;32m     57\u001b[0m \u001b[1;33m\u001b[0m\u001b[0m\n\u001b[0;32m     58\u001b[0m     \u001b[1;31m# An AttributeError occurs if the object does not have\u001b[0m\u001b[1;33m\u001b[0m\u001b[1;33m\u001b[0m\u001b[1;33m\u001b[0m\u001b[0m\n",
      "\u001b[1;31mValueError\u001b[0m: cannot reshape array of size 24300 into shape (150,60)"
     ]
    }
   ],
   "source": [
    "for generation in range(num_generations):\n",
    "    print(\"Generation: \", generation)\n",
    "    \n",
    "    # Converting the solution from being vectors to matrices.\n",
    "    pop_weights_mat = GA.vector_to_mat(pop_weights_vector, pop_weights_mat)\n",
    "    \n",
    "    # Measuring the fitness of each chromosomes in the population.\n",
    "    fitness = ANN.fitness(pop_weights_mat, data_inputs, data_outputs, activation = \"sigmoid\")\n",
    "    accuracies[generation] = fitness[0]\n",
    "    print(\"Fitness\")\n",
    "    print(fitness)\n",
    "    \n",
    "    # Selecting the best parents in the population for mating.\n",
    "    parents = GA.select_mating_pool(pop_weights_vector, fitness.copy(), num_parents_mating)\n",
    "    print(\"Parents\")\n",
    "    print(fitness)\n",
    "    \n",
    "    # Generating next generation using crossover.\n",
    "    offspring_crossover = GA.crossover(parents, \n",
    "                                       offspring_size = (pop_weights_vector.shape[0] - parents.shape[0], \n",
    "                                                         pop_weights_vector.shape[1]))\n",
    "    print(\"Crossover\")\n",
    "    print(offspring_crossover)\n",
    "    \n",
    "    # Adding some variations to the offspring using mutation.\n",
    "    offspring_mutation = GA.mutation(offspring_crossover, mutation_percent = mutation_percent)\n",
    "    print(\"Mutation\")\n",
    "    print(offspring_mutation)\n",
    "    \n",
    "    # Creating the new population based on the parents and offspring.\n",
    "    pop_weights_vector[0: parents.shape[0], :] = parents\n",
    "    pop_weights_vector[parents.shape[0]:, :] = offspring_mutation\n",
    "    \n",
    "pop_weights_mat = GA.vector_to_mat(pop_weights_vector, pop_weights_mat)\n",
    "best_weights = pop_weights_mat[0, :]\n",
    "acc, predictions = ANN.predict_outputs(best_weights, data_inputs, data_outputs, activation = \"sigmoid\")\n",
    "print(\"Accuracy of the best solution is: \", acc)\n",
    "\n",
    "plt.plot(accuracies, linewidth = 5, color = \"black\")\n",
    "plt.xlabel(\"Iteration \", fontsize = 20)\n",
    "plt.ylabel(\"Fitnes \", fontsize = 20)\n",
    "plt.xticks(np.arange(0, num_generations + 1, 100), fontsize = 15)\n",
    "plt.yticks(np.arange(0, 101, 5), fontsize = 15)\n",
    "\n",
    "f = open(\"weights_\" + str(num_generations) + \"_iterations_\" + str(mutation_percent) + \"%_mutation.pkl\", \"wb\")\n",
    "pickle.dump(pop_weights_mat, f)\n",
    "f.close()"
   ]
  },
  {
   "cell_type": "code",
   "execution_count": null,
   "metadata": {},
   "outputs": [],
   "source": []
  },
  {
   "cell_type": "code",
   "execution_count": null,
   "metadata": {},
   "outputs": [],
   "source": []
  }
 ],
 "metadata": {
  "kernelspec": {
   "display_name": "Python 3",
   "language": "python",
   "name": "python3"
  },
  "language_info": {
   "codemirror_mode": {
    "name": "ipython",
    "version": 3
   },
   "file_extension": ".py",
   "mimetype": "text/x-python",
   "name": "python",
   "nbconvert_exporter": "python",
   "pygments_lexer": "ipython3",
   "version": "3.7.3rc1"
  }
 },
 "nbformat": 4,
 "nbformat_minor": 2
}
