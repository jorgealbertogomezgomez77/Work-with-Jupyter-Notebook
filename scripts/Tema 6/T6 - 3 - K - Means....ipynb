{
 "cells": [
  {
   "cell_type": "markdown",
   "metadata": {},
   "source": [
    "# El método de k-means... "
   ]
  },
  {
   "cell_type": "code",
   "execution_count": 1,
   "metadata": {},
   "outputs": [],
   "source": [
    "import numpy as np"
   ]
  },
  {
   "cell_type": "code",
   "execution_count": 2,
   "metadata": {},
   "outputs": [
    {
     "data": {
      "text/plain": [
       "array([[0.41093358, 0.02488696, 0.02075255],\n",
       "       [0.20032427, 0.26166865, 0.54130208],\n",
       "       [0.62112598, 0.41089016, 0.1514737 ],\n",
       "       [0.00482513, 0.47999396, 0.15961533],\n",
       "       [0.12967658, 0.75552616, 0.07704467],\n",
       "       [0.36562272, 0.52887091, 0.67357322],\n",
       "       [0.27156994, 0.33119332, 0.08127979],\n",
       "       [0.09910809, 0.06089496, 0.16518851],\n",
       "       [0.25042725, 0.60140723, 0.84288547],\n",
       "       [0.08972911, 0.9218175 , 0.36742448],\n",
       "       [0.5225139 , 0.26175075, 0.63264868],\n",
       "       [0.04631962, 0.09404978, 0.55849105],\n",
       "       [0.81823755, 0.9305788 , 0.44956426],\n",
       "       [0.37601835, 0.42337929, 0.58574747],\n",
       "       [0.10881594, 0.34818649, 0.86751607],\n",
       "       [0.78166224, 0.56136118, 0.5796316 ],\n",
       "       [0.73393786, 0.5363969 , 0.44795522],\n",
       "       [0.4176695 , 0.05839549, 0.85221652],\n",
       "       [0.27531479, 0.11940562, 0.23374618],\n",
       "       [0.42183192, 0.71654383, 0.94621383],\n",
       "       [0.88328394, 0.17269992, 0.72471392],\n",
       "       [0.65070899, 0.52537713, 0.03983436],\n",
       "       [0.86188426, 0.93355499, 0.21315215],\n",
       "       [0.91210656, 0.300876  , 0.30081706],\n",
       "       [0.38336361, 0.22988819, 0.78131642],\n",
       "       [0.08212457, 0.32605344, 0.66182896],\n",
       "       [0.36251717, 0.75708122, 0.28241109],\n",
       "       [0.11089526, 0.23012573, 0.31579166],\n",
       "       [0.47520533, 0.10366303, 0.55567681],\n",
       "       [0.08622436, 0.41768239, 0.59582345]])"
      ]
     },
     "execution_count": 2,
     "metadata": {},
     "output_type": "execute_result"
    }
   ],
   "source": [
    "data = np.random.random(90).reshape(30, 3)\n",
    "data"
   ]
  },
  {
   "cell_type": "code",
   "execution_count": 3,
   "metadata": {},
   "outputs": [
    {
     "data": {
      "text/plain": [
       "array([[0.00482513, 0.47999396, 0.15961533],\n",
       "       [0.36562272, 0.52887091, 0.67357322]])"
      ]
     },
     "execution_count": 3,
     "metadata": {},
     "output_type": "execute_result"
    }
   ],
   "source": [
    "c1 = np.random.choice(range(len(data)))\n",
    "c2 = np.random.choice(range(len(data)))\n",
    "clust_centers = np.vstack([data[c1], data[c2]])\n",
    "clust_centers"
   ]
  },
  {
   "cell_type": "code",
   "execution_count": 4,
   "metadata": {},
   "outputs": [],
   "source": [
    "from scipy.cluster.vq import vq"
   ]
  },
  {
   "cell_type": "code",
   "execution_count": 5,
   "metadata": {},
   "outputs": [
    {
     "data": {
      "text/plain": [
       "(array([0, 1, 1, 0, 0, 1, 0, 0, 1, 0, 1, 1, 1, 1, 1, 1, 1, 1, 0, 1, 1, 0,\n",
       "        1, 1, 1, 1, 1, 0, 1, 1]),\n",
       " array([0.6255632 , 0.34090509, 0.59311827, 0.        , 0.31356625,\n",
       "        0.        , 0.31532662, 0.42960948, 0.21725136, 0.49558185,\n",
       "        0.31247855, 0.55160474, 0.64529794, 0.13765869, 0.36906695,\n",
       "        0.42774938, 0.43199094, 0.5059342 , 0.45681942, 0.33572831,\n",
       "        0.63043341, 0.65846266, 0.78869023, 0.69969524, 0.31829861,\n",
       "        0.34877508, 0.4528768 , 0.31317096, 0.45465333, 0.31059838]))"
      ]
     },
     "execution_count": 5,
     "metadata": {},
     "output_type": "execute_result"
    }
   ],
   "source": [
    "vq(data, clust_centers)"
   ]
  },
  {
   "cell_type": "code",
   "execution_count": 6,
   "metadata": {},
   "outputs": [],
   "source": [
    "from scipy.cluster.vq import kmeans"
   ]
  },
  {
   "cell_type": "code",
   "execution_count": 7,
   "metadata": {},
   "outputs": [
    {
     "data": {
      "text/plain": [
       "(array([[0.25606035, 0.39260354, 0.20442111],\n",
       "        [0.4822919 , 0.42849764, 0.62514351]]), 0.3800528887332933)"
      ]
     },
     "execution_count": 7,
     "metadata": {},
     "output_type": "execute_result"
    }
   ],
   "source": [
    "kmeans(data, clust_centers)"
   ]
  },
  {
   "cell_type": "code",
   "execution_count": 8,
   "metadata": {},
   "outputs": [
    {
     "data": {
      "text/plain": [
       "(array([[0.73616273, 0.56986848, 0.35439482],\n",
       "        [0.24421494, 0.34739922, 0.50076587]]), 0.366717524789043)"
      ]
     },
     "execution_count": 8,
     "metadata": {},
     "output_type": "execute_result"
    }
   ],
   "source": [
    "kmeans(data, 2)"
   ]
  },
  {
   "cell_type": "code",
   "execution_count": null,
   "metadata": {},
   "outputs": [],
   "source": []
  }
 ],
 "metadata": {
  "kernelspec": {
   "display_name": "Python 3",
   "language": "python",
   "name": "python3"
  },
  "language_info": {
   "codemirror_mode": {
    "name": "ipython",
    "version": 3
   },
   "file_extension": ".py",
   "mimetype": "text/x-python",
   "name": "python",
   "nbconvert_exporter": "python",
   "pygments_lexer": "ipython3",
   "version": "3.7.3rc1"
  }
 },
 "nbformat": 4,
 "nbformat_minor": 2
}
